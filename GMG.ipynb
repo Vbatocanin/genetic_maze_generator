{
 "cells": [
  {
   "cell_type": "code",
   "execution_count": 73,
   "metadata": {},
   "outputs": [],
   "source": [
    "import numpy as np"
   ]
  },
  {
   "cell_type": "code",
   "execution_count": 74,
   "metadata": {},
   "outputs": [
    {
     "data": {
      "text/plain": [
       "'\\n+---+---+\\n        |\\n+---+   +\\n|\\n+---+---+\\n'"
      ]
     },
     "execution_count": 74,
     "metadata": {},
     "output_type": "execute_result"
    }
   ],
   "source": [
    "\"\"\"\n",
    "+---+---+\n",
    "        |\n",
    "+---+   +\n",
    "|\n",
    "+---+---+\n",
    "\"\"\""
   ]
  },
  {
   "cell_type": "code",
   "execution_count": 75,
   "metadata": {},
   "outputs": [],
   "source": [
    "class Chromosome:\n",
    "    def __init__(self, matrix, fitness):\n",
    "        self.matrix = matrix\n",
    "        self.fitness = fitness\n",
    "    \n",
    "    def __str__(self):\n",
    "        return str(self.matrix)\n",
    "    \n",
    "    def generate_maze(self):\n",
    "        pass"
   ]
  },
  {
   "cell_type": "code",
   "execution_count": 78,
   "metadata": {},
   "outputs": [],
   "source": [
    "class GeneticAlgorithm:\n",
    "    def __init__(self, n):\n",
    "        self.generation_size = 5000\n",
    "        self.chromosome_size = n # maze size (n x n)\n",
    "        self.reproduction_size = 1000    \n",
    "        self.max_iterations = 1000\n",
    "        self.mutation_rate = 0.1\n",
    "        self.tournament_size = 10\n",
    "        \n",
    "        self.selection_type = 'tournament'      \n",
    "\n",
    "    def calculate_fitness(self, genetic_code):\n",
    "        fitness_value = 0\n",
    "        \n",
    "        # TODO\n",
    "        # off-road steps\n",
    "        # number of turns\n",
    "        # steps for algorithms to find solutions\n",
    "        \n",
    "        return fitness_value\n",
    "        \n",
    "    def initial_population(self):\n",
    "        init_population = []\n",
    "        \n",
    "        for _ in range(self.generation_size):\n",
    "            matrix = np.random.rand(n,n)\n",
    "            init_population.append(Chromosome(matrix, self.calculate_fitness(matrix)))\n",
    "            \n",
    "        return init_population\n",
    "    \n",
    "    def selection(self, chromosomes):\n",
    "        selected = []\n",
    "        \n",
    "        for _ in range(self.reproduction_size):\n",
    "            if self.selection_type == 'tournament':\n",
    "                selected.append(tournament_selection(chromosomes))\n",
    "            elif self.selection_type == 'roulette':\n",
    "                selected.append(roulette_selection(chromosomes))\n",
    "        \n",
    "        return selected\n",
    "    \n",
    "    def roulette_selection(self, chromosomes):\n",
    "        total_fitness = sum([chromosome.fitness for chromosome in chromosomes])\n",
    "         \n",
    "        selected_value = random.randrange(0, total_fitness)\n",
    "        \n",
    "        current_sum = 0\n",
    "        for i in range(self.generation_size):\n",
    "            current_sum += chromosomes[i].fitness\n",
    "\n",
    "            if current_sum > selected_value:\n",
    "                return chromosomes[i]\n",
    "     \n",
    "    def tournament_selection(self, chromosomes):\n",
    "        selected = random.sample(chromosomes, self.tournament_size)\n",
    "        \n",
    "        winner = max(selected, key = lambda x: x.fitness)\n",
    "        \n",
    "        return winner\n",
    "        \n",
    "    def mutate(self, genetic_code):\n",
    "        random_value = random.random()\n",
    "        \n",
    "        if random_value < self.mutation_rate:\n",
    "            \n",
    "            random_i = random.randrange(self.chromosome_size)\n",
    "            random_j = random.randrage(self.chromosome_size)\n",
    "            \n",
    "            genetic_code[random_i][random_j] = np.random.rand()\n",
    "            \n",
    "        return genetic_code\n",
    "        pass\n",
    "        \n",
    "    def create_generation(self, chromosomes):\n",
    "        generation = []\n",
    "        generation_size = 0\n",
    "        \n",
    "        while generation_size < self.generation_size:\n",
    "            [parent1, parent2] = random.sample(chromosomes, 2)\n",
    "            \n",
    "            child1_code, child2_code = self.crossover(parent1, parent2)\n",
    "            \n",
    "            child1_code = self.mutate(child1_code)\n",
    "            child2_code = self.mutate(child2_code)\n",
    "            \n",
    "            child1 = Chromosome(child1_code, self.calculate_fitness(child1_code))\n",
    "            child2 = Chromosome(child2_code, self.calculate_fitness(child2_code))\n",
    "            \n",
    "            generation.append(child1)\n",
    "            generation.append(child2)\n",
    "            \n",
    "            generation_size += 2\n",
    "            \n",
    "        return generation\n",
    "            \n",
    "    \n",
    "    def crossover(self, parent1, parent2):\n",
    "        pass\n",
    "        # return (child1, child2)\n",
    "        \n",
    "    def optimize(self):\n",
    "        population = self.initial_population()\n",
    "        \n",
    "        for i in range(0, self.max_iterations):\n",
    "            selected = self.selection(population)\n",
    "            \n",
    "            population = self.create_generation(selected)\n",
    "            \n",
    "            global_best_chromosome = max(population, key=lambda x: x.fitness)\n",
    "                \n",
    "            print(global_best_chromosome)\n",
    "            \n",
    "            if global_best_chromosome.fitness == self.chromosome_size:\n",
    "                break\n",
    "            \n",
    "        return global_best_chromosome"
   ]
  },
  {
   "cell_type": "code",
   "execution_count": 77,
   "metadata": {},
   "outputs": [],
   "source": [
    "# genetic_algorithm = GeneticAlgorithm()\n",
    "# result = genetic_algorithm.optimize()\n",
    "\n",
    "# print('Result: {}'.format(result))"
   ]
  },
  {
   "cell_type": "code",
   "execution_count": null,
   "metadata": {},
   "outputs": [],
   "source": []
  },
  {
   "cell_type": "code",
   "execution_count": null,
   "metadata": {},
   "outputs": [],
   "source": []
  }
 ],
 "metadata": {
  "kernelspec": {
   "display_name": "Python 3",
   "language": "python",
   "name": "python3"
  },
  "language_info": {
   "codemirror_mode": {
    "name": "ipython",
    "version": 3
   },
   "file_extension": ".py",
   "mimetype": "text/x-python",
   "name": "python",
   "nbconvert_exporter": "python",
   "pygments_lexer": "ipython3",
   "version": "3.6.9"
  }
 },
 "nbformat": 4,
 "nbformat_minor": 2
}
